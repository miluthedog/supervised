{
 "cells": [
  {
   "cell_type": "code",
   "execution_count": null,
   "id": "7a9c630f-b3ac-4c49-ac6d-a65f5f0cfa4c",
   "metadata": {},
   "outputs": [],
   "source": [
    "'''\n",
    "data: 39 labeled Pha with roboflow\n",
    "    input: image resize to 640x640\n",
    "    output: detection of Pha\n",
    "\n",
    "framework: YOLO\n",
    "model: yolo11n\n",
    "    layers: ???\n",
    "    params: ???\n",
    "    hyperparams: ???\n",
    "    algorithm: ???\n",
    "\n",
    "result: work good\n",
    "    test:\n",
    "    can detect Pha easily with >90% confi\n",
    "    never make mistake > 70% confi\n",
    "    \n",
    "'''"
   ]
  },
  {
   "cell_type": "code",
   "execution_count": null,
   "id": "37687e85",
   "metadata": {},
   "outputs": [],
   "source": [
    "from ultralytics import YOLO\n",
    "\n",
    "# pick model\n",
    "model = YOLO(\"yolo11n.pt\")"
   ]
  },
  {
   "cell_type": "code",
   "execution_count": null,
   "id": "333ac94d-f02b-491a-85b5-7f353e6ff31d",
   "metadata": {},
   "outputs": [],
   "source": [
    "# pick dataset (label with roboflow)\n",
    "model.train(data=\"data.yaml\", epochs=100, imgsz=640)"
   ]
  }
 ],
 "metadata": {
  "kernelspec": {
   "display_name": "Python 3 (ipykernel)",
   "language": "python",
   "name": "python3"
  },
  "language_info": {
   "codemirror_mode": {
    "name": "ipython",
    "version": 3
   },
   "file_extension": ".py",
   "mimetype": "text/x-python",
   "name": "python",
   "nbconvert_exporter": "python",
   "pygments_lexer": "ipython3",
   "version": "3.12.4"
  }
 },
 "nbformat": 4,
 "nbformat_minor": 5
}
