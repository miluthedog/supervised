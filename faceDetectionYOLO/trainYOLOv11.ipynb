{
 "cells": [
  {
   "cell_type": "code",
   "execution_count": null,
   "id": "7a9c630f-b3ac-4c49-ac6d-a65f5f0cfa4c",
   "metadata": {},
   "outputs": [],
   "source": [
    "# dataset: 50 images manually labeled with roboflow\n",
    "\n",
    "# framework: YOLO\n",
    "# model: yolo11n\n",
    "\n",
    "# result: works good\n",
    "    # acc 0% after 20 epochs, acc curve very unstable from epoch 20 to 70, acc >90% at 90 epoch (dataset small) \n",
    "\n",
    "from ultralytics import YOLO"
   ]
  },
  {
   "cell_type": "code",
   "execution_count": null,
   "id": "333ac94d-f02b-491a-85b5-7f353e6ff31d",
   "metadata": {},
   "outputs": [],
   "source": [
    "# pick model\n",
    "model = YOLO(\"yolo11n.pt\")\n",
    "# pick dataset (label with roboflow)\n",
    "model.train(data=\"data.yaml\", epochs=100, imgsz=640)"
   ]
  }
 ],
 "metadata": {
  "kernelspec": {
   "display_name": "Python 3 (ipykernel)",
   "language": "python",
   "name": "python3"
  },
  "language_info": {
   "codemirror_mode": {
    "name": "ipython",
    "version": 3
   },
   "file_extension": ".py",
   "mimetype": "text/x-python",
   "name": "python",
   "nbconvert_exporter": "python",
   "pygments_lexer": "ipython3",
   "version": "3.12.4"
  }
 },
 "nbformat": 4,
 "nbformat_minor": 5
}
