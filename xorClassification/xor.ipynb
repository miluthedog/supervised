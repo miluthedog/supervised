{
 "cells": [
  {
   "cell_type": "code",
   "execution_count": null,
   "id": "f45ca3dd-010f-4956-8cc0-f1ce5ad84733",
   "metadata": {},
   "outputs": [],
   "source": [
    "'''\n",
    "dataset: xor dataset kaggle 1000 xor pairs and their values (0 or 1)\n",
    "train data: 1000\n",
    "\n",
    "no framework (only numpy) - model: NN\n",
    "init: he initialization\n",
    "layer: 4 relu neurons | 2 softmax neurons\n",
    "learning rate: 0.1\n",
    "(cross entropy loss)\n",
    "Hard code, need to improve\n",
    "\n",
    "result: work most the time (took average 80-200 ite to get 100% acc base on init params)\n",
    "ERROR: when loss ~0.69, the learning speed decrease and stop learning at 0.6928, at this specific point dw, db get too small to update\n",
    "\n",
    "testing: print all params for all 4 cases\n",
    "'''\n",
    "import numpy as np"
   ]
  },
  {
   "cell_type": "code",
   "execution_count": null,
   "id": "9815221e",
   "metadata": {},
   "outputs": [],
   "source": [
    "load_data = np.loadtxt(\"xor.csv\", delimiter=\",\", skiprows=1)\n",
    "data = load_data[:1000]\n",
    "\n",
    "train = data.T\n",
    "\n",
    "X_train = train[:2]\n",
    "Y_train = train[2:3]"
   ]
  },
  {
   "cell_type": "code",
   "execution_count": null,
   "id": "bf822400-a07b-40c7-adf5-1bf6cd13e3d7",
   "metadata": {},
   "outputs": [],
   "source": [
    "def init_params():\n",
    "    w1 = np.random.rand(4, 2) * np.sqrt(2/2)\n",
    "    b1 = np.zeros((4, 1))\n",
    "    w2 = np.random.rand(2, 4) * np.sqrt(2/4)\n",
    "    b2 = np.zeros((2, 1))\n",
    "    return w1, b1, w2, b2"
   ]
  },
  {
   "cell_type": "code",
   "execution_count": null,
   "id": "46b75e21-ec87-4953-bfcd-de24acbcf688",
   "metadata": {},
   "outputs": [],
   "source": [
    "def ReLU(Z):\n",
    "    return np.maximum(0, Z)\n",
    "\n",
    "def softmax(Z):\n",
    "    stable_Z = Z - np.max(Z, axis = 0, keepdims = True)\n",
    "    exp_Z = np.exp(stable_Z)\n",
    "    return exp_Z / np.sum(exp_Z, axis = 0, keepdims = True)\n",
    "\n",
    "def deriReLU(Z):\n",
    "    return (Z > 0) * 1"
   ]
  },
  {
   "cell_type": "code",
   "execution_count": null,
   "id": "e7f188e0-a8b3-4a79-9212-ed1d4bf3502d",
   "metadata": {},
   "outputs": [],
   "source": [
    "def encode(Y):\n",
    "    new_Y = np.zeros((1000, 2))\n",
    "    new_Y[np.arange(1000), Y.astype(int)] = 1\n",
    "    new_Y = new_Y.T\n",
    "    return new_Y"
   ]
  },
  {
   "cell_type": "code",
   "execution_count": null,
   "id": "86c246de-393e-49bd-bb29-dd6d6010b050",
   "metadata": {},
   "outputs": [],
   "source": [
    "def forward_propagation(X, w1, b1, w2, b2):\n",
    "    Z1 = w1 @ X + b1\n",
    "    A1 = ReLU(Z1)\n",
    "    Z2 = w2 @ A1 + b2\n",
    "    A2 = softmax(Z2)\n",
    "    return Z1, A1, Z2, A2\n",
    "\n",
    "def backward_propagation(X, Y, Z1, A1, Z2, A2, w2):\n",
    "    dz2 = A2 - encode(Y)\n",
    "    dw2 = 0.001 * dz2 @ A1.T\n",
    "    db2 = 0.001 * np.sum(dz2, axis = 1, keepdims = True)\n",
    "    dz1 = (w2.T @ dz2) * deriReLU(Z1)\n",
    "    dw1 = 0.001 * dz1 @ X.T\n",
    "    db1 = 0.001 * np.sum(dz1, axis = 1, keepdims = True)\n",
    "    return dw1, db1, dw2, db2"
   ]
  },
  {
   "cell_type": "code",
   "execution_count": null,
   "id": "2a1326a9-8316-4003-85f2-1c3f14537c34",
   "metadata": {},
   "outputs": [],
   "source": [
    "def update_params(alpha, w1, b1, w2, b2, dw1, db1, dw2, db2):\n",
    "    w1 = w1 - alpha*dw1\n",
    "    b1 = b1 - alpha*db1\n",
    "    w2 = w2 - alpha*dw2\n",
    "    b2 = b2 - alpha*db2\n",
    "    return w1, b1, w2, b2"
   ]
  },
  {
   "cell_type": "code",
   "execution_count": null,
   "id": "729e2c9e",
   "metadata": {
    "scrolled": true
   },
   "outputs": [],
   "source": [
    "def accuracy(Y, A2):\n",
    "    return np.sum(np.argmax(A2, axis = 0) == Y) / 1000\n",
    "\n",
    "def cross_entropy_loss(Y, A2):\n",
    "    Y_encoded = encode(Y)\n",
    "    log_A2 = np.log(A2 + 1e-8)\n",
    "    loss = -np.sum(Y_encoded * log_A2) / 1000\n",
    "    return loss\n",
    "    \n",
    "def gradient_descent(X_train, Y_train, iterations, alpha):\n",
    "    w1, b1, w2, b2 = init_params()\n",
    "    for iteration in range(iterations):\n",
    "        Z1, A1, Z2, A2 = forward_propagation(X_train, w1, b1, w2, b2)\n",
    "        dw1, db1, dw2, db2 = backward_propagation(X_train, Y_train, Z1, A1, Z2, A2, w2)\n",
    "        w1, b1, w2, b2 = update_params(alpha, w1, b1, w2, b2, dw1, db1, dw2, db2)\n",
    "        if (iteration % 20 == 0):\n",
    "            acc = accuracy(Y_train, A2)\n",
    "            loss = cross_entropy_loss(Y_train, A2)\n",
    "            print(f\"Iteration {iteration}: {loss:.4} loss, {acc*100}% acc\")\n",
    "    return w1, b1, w2, b2\n",
    "\n",
    "w1, b1, w2, b2 = gradient_descent(X_train, Y_train, 501, 0.1)"
   ]
  },
  {
   "cell_type": "code",
   "execution_count": null,
   "id": "a9d84d6c-84f0-432f-9d73-6ae66d796793",
   "metadata": {},
   "outputs": [],
   "source": [
    "# testing area\n",
    "\n",
    "Xtest = np.array([[0,0],[0,1],[1,0],[1,1]]).T\n",
    "\n",
    "z1,a1,z2,a2 = forward_propagation(Xtest,w1,b1,w2,b2)\n",
    "print(f\"z1 = {z1}\\na1 = {a1}\\nz2 = {z2}\\na2 = {a2}\")"
   ]
  },
  {
   "cell_type": "code",
   "execution_count": null,
   "id": "416ff641-28af-43b3-a928-806a1eeb9f04",
   "metadata": {},
   "outputs": [],
   "source": [
    "def testencode(Y):\n",
    "    new_Y = np.zeros((4, 2))\n",
    "    new_Y[np.arange(4), Y.astype(int)] = 1\n",
    "    new_Y = new_Y.T\n",
    "    return new_Y\n",
    "\n",
    "def testbackward_propagation(X, Y, Z1, A1, Z2, A2, w2):\n",
    "    dz2 = A2 - testencode(Y)\n",
    "    dw2 = 0.25 * dz2 @ A1.T\n",
    "    db2 = 0.25 * np.sum(dz2, axis = 1, keepdims = True)\n",
    "    dz1 = (w2.T @ dz2) * deriReLU(Z1)\n",
    "    dw1 = 0.25 * dz1 @ X.T\n",
    "    db1 = 0.25 * np.sum(dz1, axis = 1, keepdims = True)\n",
    "    return dw1, db1, dw2, db2\n",
    "\n",
    "Ytest = np.array([[0, 1, 1, 0]])\n",
    "dw1,db1,dw2,db2 = testbackward_propagation(Xtest, Ytest,z1,a1,z2,a2 , w2)\n",
    "print(f\"dw1 = {dw1}\\ndb1 = {db1}\\ndw2 = {dw2}\\ndb2 = {db2}\")"
   ]
  }
 ],
 "metadata": {
  "kernelspec": {
   "display_name": "Python 3 (ipykernel)",
   "language": "python",
   "name": "python3"
  },
  "language_info": {
   "codemirror_mode": {
    "name": "ipython",
    "version": 3
   },
   "file_extension": ".py",
   "mimetype": "text/x-python",
   "name": "python",
   "nbconvert_exporter": "python",
   "pygments_lexer": "ipython3",
   "version": "3.12.4"
  }
 },
 "nbformat": 4,
 "nbformat_minor": 5
}
