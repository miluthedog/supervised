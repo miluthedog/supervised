{
 "cells": [
  {
   "cell_type": "code",
   "execution_count": null,
   "metadata": {},
   "outputs": [],
   "source": [
    "# dataset: 10000 mnist (28x28 \"image\" with label)\n",
    "\n",
    "# framework: tf.keras\n",
    "# model: NN and CNN\n",
    "    # NN layer: n relu neurons | 10 softmax neuron\n",
    "    # CNN layer: n convo 3x3 + relu | 2x2 pool | flatten | 10 softmax neuron\n",
    "    # both: n convo 3x3 + relu | 2x2 pool | flatten | n relu neurons | 10 softmax neuron\n",
    "    # 10 epoch, sparseCategoricalCrossentropy, optimizer adam\n",
    "\n",
    "# result: all works, keras OP. In particular:\n",
    "    # 32 NN: 94.11%, 64 NN: 96.76% , 128 NN: 98.96%, 256 NN: 99.95% [2.3 mb]\n",
    "    # 32 CNN: 96.57%, 64 CNN: 98.59%, 128 CNN: 99.78%, 256 CNN: 100% at epoch 9 [5 mb]\n",
    "    # 32 both: 98.74%, 64 both: 100% at epoch 8 \n",
    "    # 256 both: 100% at epoch 7 (confirmed on 10 test sample) [126.8 mb]\n",
    "\n",
    "import tensorflow as tf\n",
    "import numpy as np"
   ]
  },
  {
   "cell_type": "code",
   "execution_count": null,
   "metadata": {},
   "outputs": [],
   "source": [
    "load_data = np.loadtxt(\"mnist.csv\", delimiter=\",\", skiprows=1)\n",
    "data = load_data[:1000]\n",
    "\n",
    "Y_train = data[:,0]\n",
    "X_train = data[:,1:]\n",
    "X_train = X_train / 255.0  # [0, 1]\n",
    "\n",
    "test = load_data[1001:1013]\n",
    "Ytest = data[:,0]\n",
    "Xtest = data[:,1:]"
   ]
  },
  {
   "cell_type": "code",
   "execution_count": null,
   "metadata": {},
   "outputs": [],
   "source": [
    "model1 = tf.keras.models.Sequential([\n",
    "    tf.keras.layers.Dense(32, activation='relu', input_shape=(784,)),\n",
    "    tf.keras.layers.Dense(10, activation='softmax')])\n",
    "model1.compile(optimizer='adam', loss='SparseCategoricalCrossentropy', metrics=['accuracy'])\n",
    "\n",
    "model1.fit(X_train, Y_train, epochs=10)"
   ]
  },
  {
   "cell_type": "code",
   "execution_count": null,
   "metadata": {},
   "outputs": [],
   "source": [
    "model2 = tf.keras.models.Sequential([\n",
    "    tf.keras.layers.Reshape((28, 28, 1), input_shape=(784,)),\n",
    "    tf.keras.layers.Conv2D(32, (3,3), activation='relu'),\n",
    "    tf.keras.layers.MaxPooling2D(pool_size=(2,2)),\n",
    "    tf.keras.layers.Flatten(),\n",
    "    tf.keras.layers.Dense(10, activation='softmax')])\n",
    "model2.compile(optimizer='adam', loss='SparseCategoricalCrossentropy', metrics=['accuracy'])\n",
    "\n",
    "model2.fit(X_train, Y_train, epochs=10)"
   ]
  },
  {
   "cell_type": "code",
   "execution_count": null,
   "metadata": {},
   "outputs": [],
   "source": [
    "model3 = tf.keras.models.Sequential([\n",
    "    tf.keras.layers.Reshape((28, 28, 1), input_shape=(784,)),\n",
    "    tf.keras.layers.Conv2D(32, (3,3), activation='relu'),\n",
    "    tf.keras.layers.MaxPooling2D(pool_size=(2,2)),\n",
    "    tf.keras.layers.Flatten(),\n",
    "    tf.keras.layers.Dense(32, activation='relu', input_shape=(784,)),\n",
    "    tf.keras.layers.Dense(10, activation='softmax')])\n",
    "model3.compile(optimizer='adam', loss='SparseCategoricalCrossentropy', metrics=['accuracy'])\n",
    "\n",
    "model3.fit(X_train, Y_train, epochs=10)"
   ]
  },
  {
   "cell_type": "code",
   "execution_count": null,
   "metadata": {},
   "outputs": [],
   "source": [
    "model1.save(\"nn.keras\")\n",
    "model2.save(\"cnn.keras\")\n",
    "# model3.save(\"nncnn.keras\")"
   ]
  },
  {
   "cell_type": "code",
   "execution_count": null,
   "metadata": {},
   "outputs": [],
   "source": [
    "import matplotlib.pyplot as plt\n",
    "import numpy as np\n",
    "\n",
    "test = Xtest.reshape(-1, 784)\n",
    "\n",
    "predictions1 = model1.predict(test)\n",
    "predictions2 = model2.predict(test)\n",
    "label1 = np.argmax(predictions1, axis=1)\n",
    "label2 = np.argmax(predictions2, axis=1)\n",
    "\n",
    "fig, axes = plt.subplots(2, 6, figsize=(12, 5))\n",
    "for i, ax in enumerate(axes.flat):\n",
    "    ax.imshow(test[i].reshape(28, 28), cmap=\"gray\")\n",
    "    ax.set_title(f\"NN: {label1[i]} | CNN: {label2[i]}\")\n",
    "    ax.axis(\"off\")\n",
    "\n",
    "plt.show()"
   ]
  }
 ],
 "metadata": {
  "kernelspec": {
   "display_name": "Python 3 (ipykernel)",
   "language": "python",
   "name": "python3"
  },
  "language_info": {
   "codemirror_mode": {
    "name": "ipython",
    "version": 3
   },
   "file_extension": ".py",
   "mimetype": "text/x-python",
   "name": "python",
   "nbconvert_exporter": "python",
   "pygments_lexer": "ipython3",
   "version": "3.12.4"
  }
 },
 "nbformat": 4,
 "nbformat_minor": 4
}
