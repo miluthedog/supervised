{
 "cells": [
  {
   "cell_type": "code",
   "execution_count": null,
   "id": "c03df3b8",
   "metadata": {},
   "outputs": [],
   "source": [
    "'''\n",
    "dataset: 28 photos of class \"meo meo\" or class \"not meo meo\" of most random photos ever\n",
    "\n",
    "framework: tf.keras - model: CNN\n",
    "feature extract: 32 convo 3x3 + relu | 2x2 pool | 64 convo 3x3 + relu | 2x2 pool | flatten\n",
    "classification: 128 relu neurons | 1 sigmoid neuron\n",
    "optimizer: adam\n",
    "\n",
    "result: works pretty good on camera (with good lighting)\n",
    "85% acc after 30 epochs (dataset too small, not reliable)\n",
    "'''\n",
    "import tensorflow as tf\n",
    "from tensorflow.keras.preprocessing.image import ImageDataGenerator"
   ]
  },
  {
   "cell_type": "code",
   "execution_count": null,
   "id": "fb2f4f3c-63e9-4ba3-9407-8241521c92ac",
   "metadata": {},
   "outputs": [],
   "source": [
    "datagen = ImageDataGenerator(rescale=1./255, validation_split=0.2)\n",
    "\n",
    "trainData = datagen.flow_from_directory(\n",
    "    'catClassificationKeras/meomeoTrain', target_size=(128, 128), batch_size=32, class_mode='binary', subset='training'\n",
    ")\n",
    "valData = datagen.flow_from_directory(\n",
    "    'catClassificationKeras/meomeoTrain', target_size=(128, 128), batch_size=32, class_mode='binary', subset='validation'\n",
    ")"
   ]
  },
  {
   "cell_type": "code",
   "execution_count": null,
   "id": "88600467-f70f-4de5-b15a-04c60ab75e2c",
   "metadata": {},
   "outputs": [],
   "source": [
    "model = tf.keras.models.Sequential([\n",
    "    tf.keras.layers.Conv2D(32, (3,3), activation='relu', input_shape=(128, 128, 3)),\n",
    "    tf.keras.layers.MaxPooling2D(2, 2),\n",
    "    tf.keras.layers.Conv2D(64, (3,3), activation='relu'),\n",
    "    tf.keras.layers.MaxPooling2D(2,2),\n",
    "    tf.keras.layers.Flatten(),\n",
    "    tf.keras.layers.Dense(128, activation='relu'),\n",
    "    tf.keras.layers.Dense(1, activation='sigmoid')\n",
    "])\n",
    "model.compile(optimizer='adam', loss='binary_crossentropy', metrics=['accuracy'])\n"
   ]
  },
  {
   "cell_type": "code",
   "execution_count": null,
   "id": "22dca039-d21d-40b0-9611-0cb57e374d15",
   "metadata": {},
   "outputs": [],
   "source": [
    "# Training\n",
    "history = model.fit(trainData, validation_data=valData, epochs=50)"
   ]
  },
  {
   "cell_type": "code",
   "execution_count": null,
   "id": "bdc7fb12-3ec0-4a4b-a992-c3acfcb814fa",
   "metadata": {},
   "outputs": [],
   "source": [
    "model.save('meomeo.keras')"
   ]
  }
 ],
 "metadata": {
  "kernelspec": {
   "display_name": "Python 3 (ipykernel)",
   "language": "python",
   "name": "python3"
  },
  "language_info": {
   "codemirror_mode": {
    "name": "ipython",
    "version": 3
   },
   "file_extension": ".py",
   "mimetype": "text/x-python",
   "name": "python",
   "nbconvert_exporter": "python",
   "pygments_lexer": "ipython3",
   "version": "3.12.4"
  }
 },
 "nbformat": 4,
 "nbformat_minor": 5
}
