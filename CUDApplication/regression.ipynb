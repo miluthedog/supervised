{
 "cells": [
  {
   "cell_type": "code",
   "execution_count": null,
   "metadata": {},
   "outputs": [],
   "source": [
    "'''\n",
    "data: Content Ultimate Dataset\n",
    "    input:\n",
    "    output:\n",
    "\n",
    "no framework\n",
    "model:\n",
    "    layers: \n",
    "    params: \n",
    "    hyperparams: X\n",
    "    algorithm: X\n",
    "\n",
    "result:\n",
    "    test:\n",
    "'''"
   ]
  },
  {
   "cell_type": "code",
   "execution_count": null,
   "metadata": {},
   "outputs": [],
   "source": [
    "import numpy as np\n",
    "import matplotlib.pyplot as plt\n",
    "\n",
    "data_and = np.loadtxt(\"and.csv\", delimiter=\",\", encoding=\"utf-8-sig\") # 00 0, 01 0, 10 0, 11 1\n",
    "data_imp = np.loadtxt(\"imp.csv\", delimiter=\",\", encoding=\"utf-8-sig\") # 00 1, 01 1, 10 0, 11 1\n",
    "data_not = np.loadtxt(\"not.csv\", delimiter=\",\", encoding=\"utf-8-sig\") #  0 1,  1 0\n",
    "data_or = np.loadtxt(\"or.csv\", delimiter=\",\", encoding=\"utf-8-sig\")   # 00 0, 01 1, 10 1, 11 1\n",
    "data_xor = np.loadtxt(\"xor.csv\", delimiter=\",\", encoding=\"utf-8-sig\") # 00 0, 01 1, 10 1, 11 1\n",
    "\n",
    "feature = np.sum(np.column_stack([data_and[:, :2], data_imp[:, :2], data_not[:, :1], data_or[:, :2], data_xor[:, :2]]), axis=1)/8\n",
    "label = np.logical_and.reduce([data_and[:,2], data_imp[:,2], data_or[:,2]])"
   ]
  },
  {
   "cell_type": "code",
   "execution_count": null,
   "metadata": {},
   "outputs": [],
   "source": [
    "plt.scatter(feature, label, color='blue', alpha=0.5, label=\"Data Points\")\n",
    "plt.xlabel(\"Feature (x)\")\n",
    "plt.ylabel(\"Label (y)\")"
   ]
  }
 ],
 "metadata": {
  "kernelspec": {
   "display_name": "Python 3 (ipykernel)",
   "language": "python",
   "name": "python3"
  },
  "language_info": {
   "codemirror_mode": {
    "name": "ipython",
    "version": 3
   },
   "file_extension": ".py",
   "mimetype": "text/x-python",
   "name": "python",
   "nbconvert_exporter": "python",
   "pygments_lexer": "ipython3",
   "version": "3.12.4"
  }
 },
 "nbformat": 4,
 "nbformat_minor": 4
}
