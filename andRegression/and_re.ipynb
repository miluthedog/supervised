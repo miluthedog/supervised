{
 "cells": [
  {
   "cell_type": "code",
   "execution_count": null,
   "id": "b60eaf95",
   "metadata": {},
   "outputs": [],
   "source": [
    "'''\n",
    "data: 1000 AND logic\n",
    "    input: 1 value = sum of 2 input value (from 0 to 1) => i know it trash, thats what i want\n",
    "    output: 1 prediction of logic\n",
    "\n",
    "no framework\n",
    "model: 1 linear regression neuron\n",
    "    layers: 1 neuron\n",
    "    params: learning rate 0.0005\n",
    "    hyperparams: X\n",
    "    algorithm: mse loss\n",
    "\n",
    "result: ofc result trash, but it should work\n",
    "    test: \n",
    "    some time it not converge in 100 ite, need more ite (no stop learning)\n",
    "'''"
   ]
  },
  {
   "cell_type": "code",
   "execution_count": null,
   "id": "09478ff8-17e9-4fb2-99bf-b36819fd2469",
   "metadata": {},
   "outputs": [],
   "source": [
    "import numpy as np\n",
    "import matplotlib.pyplot as plt\n",
    "\n",
    "data = np.loadtxt(\"and.csv\", delimiter=\",\", skiprows=1)\n",
    "\n",
    "feature = data[:,0]+data[:,1] # (1000, 1)\n",
    "label = data[:,2]             # (1000, 1)\n",
    "\n",
    "n = label.shape[0]\n",
    "alpha = 0.0005"
   ]
  },
  {
   "cell_type": "code",
   "execution_count": null,
   "id": "af26607c-0913-4ff5-a632-ffeb33e1d758",
   "metadata": {},
   "outputs": [],
   "source": [
    "def init_params():\n",
    "    global w, b\n",
    "    w = np.random.rand(1, 1) * np.sqrt(2/1)\n",
    "    b = np.zeros((1, 1))\n",
    "    return w, b"
   ]
  },
  {
   "cell_type": "code",
   "execution_count": null,
   "id": "6a0c8611-bae3-41f8-803e-c41b00ed7128",
   "metadata": {},
   "outputs": [],
   "source": [
    "def forward(feature, w, b):\n",
    "    return feature * w + b"
   ]
  },
  {
   "cell_type": "code",
   "execution_count": null,
   "id": "7e988896-7a74-40f2-8f01-efb202b8978b",
   "metadata": {},
   "outputs": [],
   "source": [
    "def backward(feature, label, prediction):\n",
    "    dj = label - prediction\n",
    "    dw = -2 / n * (dj @ feature.T)\n",
    "    db = -np.sum(dj, axis = 1, keepdims = True)\n",
    "    return dw, db\n",
    "\n",
    "def update_params(w, b, dw, db):\n",
    "    w = w - alpha * dw\n",
    "    b = b - alpha * db\n",
    "    return w, b"
   ]
  },
  {
   "cell_type": "code",
   "execution_count": null,
   "id": "672bc823-d8f6-4c54-921c-94bf544bc724",
   "metadata": {},
   "outputs": [],
   "source": [
    "def mse(label, prediction):\n",
    "    return np.sum(np.square(prediction - label)) / n\n",
    "\n",
    "def train():\n",
    "    history = []\n",
    "    w, b = init_params()\n",
    "    for iteration in range (10000):\n",
    "        prediction = forward(feature, w, b)\n",
    "        dw, db = backward(feature, label, prediction)\n",
    "        w, b = update_params(w, b, dw, db)\n",
    "        loss = mse(label, prediction)\n",
    "        history.append(loss)\n",
    "        if (iteration % 1000 == 0):\n",
    "            print(f\"iteration {iteration}: loss = {loss:.4f}\")\n",
    "    return history, w, b\n",
    "history, w, b = train()"
   ]
  },
  {
   "cell_type": "code",
   "execution_count": null,
   "id": "0bcabe83-d1a7-4a9b-a187-ccf5c40c0cdf",
   "metadata": {},
   "outputs": [],
   "source": [
    "plt.plot(range(len(history)), history)\n",
    "plt.xlabel('Iterations')\n",
    "plt.ylabel('Loss')"
   ]
  },
  {
   "cell_type": "code",
   "execution_count": null,
   "id": "88358b7e-1478-4838-a5a1-2a6ed284ca3c",
   "metadata": {},
   "outputs": [],
   "source": [
    "scalar_w = w.item()\n",
    "scalar_b = b.item()\n",
    "\n",
    "plt.scatter(feature, label, color='blue', alpha=0.5, label=\"Data Points\")\n",
    "x_vals = np.linspace(np.min(feature), np.max(feature), 100)\n",
    "y_vals = scalar_w * x_vals + scalar_b\n",
    "plt.plot(x_vals, y_vals, color='red', label=\"Linear Function (w*x + b)\")\n",
    "\n",
    "plt.xlabel(\"Feature (x)\")\n",
    "plt.ylabel(\"Label (y)\")\n",
    "plt.title(\"Do da threshold stuff and this must be fine\")"
   ]
  }
 ],
 "metadata": {
  "kernelspec": {
   "display_name": "Python 3 (ipykernel)",
   "language": "python",
   "name": "python3"
  },
  "language_info": {
   "codemirror_mode": {
    "name": "ipython",
    "version": 3
   },
   "file_extension": ".py",
   "mimetype": "text/x-python",
   "name": "python",
   "nbconvert_exporter": "python",
   "pygments_lexer": "ipython3",
   "version": "3.12.4"
  }
 },
 "nbformat": 4,
 "nbformat_minor": 5
}
